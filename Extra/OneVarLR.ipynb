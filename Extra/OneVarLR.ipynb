{
 "cells": [
  {
   "cell_type": "markdown",
   "metadata": {},
   "source": [
    "## Imports"
   ]
  },
  {
   "cell_type": "code",
   "execution_count": 1,
   "metadata": {},
   "outputs": [],
   "source": [
    "import pandas as pd\n",
    "pd.options.display.max_columns = 999\n",
    "import numpy as np\n",
    "\n",
    "from sklearn.linear_model import LogisticRegression\n",
    "from sklearn.metrics import roc_auc_score\n",
    "from sklearn.model_selection import KFold, StratifiedKFold\n",
    "\n",
    "from IPython.display import clear_output\n",
    "import time\n",
    "start = time.time()"
   ]
  },
  {
   "cell_type": "markdown",
   "metadata": {},
   "source": [
    "## Data and parameters"
   ]
  },
  {
   "cell_type": "code",
   "execution_count": 2,
   "metadata": {},
   "outputs": [],
   "source": [
    "DATA_PATH = 'E:/Projects/Datacup/'\n",
    "seed = 32\n",
    "np.random.seed(seed=seed)"
   ]
  },
  {
   "cell_type": "code",
   "execution_count": 3,
   "metadata": {},
   "outputs": [],
   "source": [
    "train = pd.read_csv(DATA_PATH+'performance_train.csv')\n",
    "test = pd.read_csv(DATA_PATH+'performance_test.csv')\n",
    "train_fac = pd.read_csv(DATA_PATH + 'facturation_train.csv')\n",
    "test_fac = pd.read_csv(DATA_PATH + 'facturation_test.csv')\n",
    "\n",
    "compl = pd.concat([train,test],axis=0,ignore_index=True)\n",
    "compl.loc[:len(train),'trainset']=1\n",
    "compl.loc[len(train):,'trainset']=0\n",
    "\n",
    "compl_fac = pd.concat([train_fac,test_fac],axis=0).sort_values(['ID_CPTE','PERIODID_MY'])"
   ]
  },
  {
   "cell_type": "code",
   "execution_count": 4,
   "metadata": {},
   "outputs": [],
   "source": [
    "compl_fac['ratio_ctotal_credit'] = compl_fac['CurrentTotalBalance']/compl_fac['CreditLimit']"
   ]
  },
  {
   "cell_type": "code",
   "execution_count": 5,
   "metadata": {},
   "outputs": [],
   "source": [
    "compl_fac.fillna(0,inplace=True)"
   ]
  },
  {
   "cell_type": "markdown",
   "metadata": {},
   "source": [
    "## Features"
   ]
  },
  {
   "cell_type": "code",
   "execution_count": 6,
   "metadata": {},
   "outputs": [],
   "source": [
    "numericals = []"
   ]
  },
  {
   "cell_type": "code",
   "execution_count": 7,
   "metadata": {},
   "outputs": [],
   "source": [
    "def get_lags_compte(data,var,lags,numericals):\n",
    "    gp = data.groupby(['ID_CPTE'])\n",
    "    for lag in lags:\n",
    "        compl[var+str(lag)] = compl['ID_CPTE'].map(gp[var].nth(lag))\n",
    "        if not var+str(lag) in numericals:\n",
    "            numericals.append(var+str(lag))"
   ]
  },
  {
   "cell_type": "code",
   "execution_count": 8,
   "metadata": {},
   "outputs": [],
   "source": [
    "get_lags_compte(compl_fac,'ratio_ctotal_credit',[-1],numericals)"
   ]
  },
  {
   "cell_type": "code",
   "execution_count": 9,
   "metadata": {},
   "outputs": [],
   "source": [
    "target = 'Default'\n",
    "features = numericals.copy()\n",
    "\n",
    "tr_idx = np.where(compl.trainset==1)\n",
    "test_idx = np.where(compl.trainset==0)\n",
    "df_train = compl.iloc[tr_idx]\n",
    "df_test = compl.iloc[test_idx]\n",
    "\n",
    "X = df_train[features]\n",
    "X_test = df_test[features]\n",
    "y = df_train[target]"
   ]
  },
  {
   "cell_type": "markdown",
   "metadata": {},
   "source": [
    "## Models"
   ]
  },
  {
   "cell_type": "code",
   "execution_count": 10,
   "metadata": {},
   "outputs": [],
   "source": [
    "lr = LogisticRegression(C=0.01)"
   ]
  },
  {
   "cell_type": "code",
   "execution_count": 15,
   "metadata": {},
   "outputs": [
    {
     "name": "stdout",
     "output_type": "stream",
     "text": [
      "Average ROC: 0.850369654863474\n",
      "Wall time: 81.2 ms\n"
     ]
    }
   ],
   "source": [
    "%%time\n",
    "\n",
    "rocs = []\n",
    "kf = KFold(10,shuffle=True,random_state=seed)\n",
    "X_meta = np.zeros((compl.shape[0],2))\n",
    "X_meta[:X.shape[0],0]=y\n",
    "for train_idx, val_idx in kf.split(X):\n",
    "\n",
    "    X_tr = X.iloc[train_idx]\n",
    "    y_tr = y.iloc[train_idx]\n",
    "    X_val = X.iloc[val_idx]\n",
    "    y_val = y.iloc[val_idx]\n",
    "\n",
    "    lr.fit(X_tr,y_tr)\n",
    "    \n",
    "    predict_tr = lr.predict_proba(X_tr)[:,1]\n",
    "    roc_auc_tr = roc_auc_score(y_tr,predict_tr)\n",
    "\n",
    "    predict_val =  lr.predict_proba(X_val)[:,1]\n",
    "    X_meta[val_idx,1]=predict_val\n",
    "    roc_auc = roc_auc_score(y_val,predict_val)\n",
    "\n",
    "    rocs.append(roc_auc)\n",
    "    print('TRAIN:',roc_auc_tr,'VAL:',roc_auc)\n",
    "\n",
    "clear_output()\n",
    "avg_roc = sum(rocs)/len(rocs)\n",
    "print('Average ROC:',avg_roc)"
   ]
  },
  {
   "cell_type": "code",
   "execution_count": 17,
   "metadata": {},
   "outputs": [
    {
     "name": "stdout",
     "output_type": "stream",
     "text": [
      "0.0\n"
     ]
    }
   ],
   "source": [
    "lgb_model = lr.fit(X,y)\n",
    "start_pred = time.time()\n",
    "predict_test = lr.predict_proba(X_test)[:,1]\n",
    "print((time.time()-start_pred))\n",
    "test['Default'] = predict_test\n",
    "X_meta[X.shape[0]:,1]=predict_test\n",
    "#test[['ID_CPTE','Default']].to_csv('SinglePredictions/'+f'{avg_roc:.5f}_'+'LR_full.csv',index=False)\n",
    "#np.save('../Stacksfull/'+f'{avg_roc:.5f}_'+'MetaLR_full.npy',X_meta)"
   ]
  },
  {
   "cell_type": "code",
   "execution_count": 13,
   "metadata": {},
   "outputs": [
    {
     "name": "stdout",
     "output_type": "stream",
     "text": [
      "0.6727902889251709\n"
     ]
    }
   ],
   "source": [
    "print((time.time()-start))"
   ]
  }
 ],
 "metadata": {
  "kernelspec": {
   "display_name": "Python 3",
   "language": "python",
   "name": "python3"
  },
  "language_info": {
   "codemirror_mode": {
    "name": "ipython",
    "version": 3
   },
   "file_extension": ".py",
   "mimetype": "text/x-python",
   "name": "python",
   "nbconvert_exporter": "python",
   "pygments_lexer": "ipython3",
   "version": "3.6.5"
  }
 },
 "nbformat": 4,
 "nbformat_minor": 2
}
