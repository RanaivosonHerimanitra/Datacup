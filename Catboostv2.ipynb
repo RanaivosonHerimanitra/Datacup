{
 "cells": [
  {
   "cell_type": "markdown",
   "metadata": {},
   "source": [
    "## Imports"
   ]
  },
  {
   "cell_type": "code",
   "execution_count": 1,
   "metadata": {},
   "outputs": [],
   "source": [
    "import pandas as pd\n",
    "pd.options.display.max_columns = 999\n",
    "import numpy as np\n",
    "import seaborn as sns\n",
    "import matplotlib.pyplot as plt\n",
    "plt.style.use('dark_background')\n",
    "\n",
    "import catboost as cb\n",
    "\n",
    "from sklearn.metrics import roc_auc_score\n",
    "from sklearn.preprocessing import LabelEncoder\n",
    "from sklearn.model_selection import KFold, StratifiedKFold\n",
    "from sklearn.feature_extraction.text import CountVectorizer\n",
    "\n",
    "from IPython.display import clear_output\n",
    "import time\n",
    "start = time.time()"
   ]
  },
  {
   "cell_type": "markdown",
   "metadata": {},
   "source": [
    "## Data and parameters"
   ]
  },
  {
   "cell_type": "code",
   "execution_count": 2,
   "metadata": {},
   "outputs": [],
   "source": [
    "DATA_PATH = 'E:/Projects/Datacup/'\n",
    "seed = 32\n",
    "np.random.seed(seed=seed)"
   ]
  },
  {
   "cell_type": "code",
   "execution_count": 3,
   "metadata": {},
   "outputs": [],
   "source": [
    "train = pd.read_csv(DATA_PATH+'performance_train.csv')\n",
    "test = pd.read_csv(DATA_PATH+'performance_test.csv')\n",
    "train_fac = pd.read_csv(DATA_PATH + 'facturation_train.csv')\n",
    "test_fac = pd.read_csv(DATA_PATH + 'facturation_test.csv')\n",
    "train_pai = pd.read_csv(DATA_PATH + 'paiements_train.csv')\n",
    "test_pai = pd.read_csv(DATA_PATH + 'paiements_test.csv')\n",
    "train_tra = pd.read_csv(DATA_PATH + 'transactions_train.csv')\n",
    "test_tra = pd.read_csv(DATA_PATH + 'transactions_test.csv')\n",
    "train_traadd = pd.read_csv(DATA_PATH + 'additional_transactions_train.csv')\n",
    "test_traadd = pd.read_csv(DATA_PATH + 'additional_transactions_test.csv')\n",
    "train_tra = pd.concat([train_tra,train_traadd],axis=0,ignore_index=True)\n",
    "test_tra = pd.concat([test_tra,test_traadd],axis=0,ignore_index=True)\n",
    "\n",
    "compl = pd.concat([train,test],axis=0,ignore_index=True)\n",
    "compl.loc[:len(train),'trainset']=1\n",
    "compl.loc[len(train):,'trainset']=0\n",
    "\n",
    "compl_fac = pd.concat([train_fac,test_fac],axis=0).sort_values(['ID_CPTE','PERIODID_MY'])\n",
    "compl_pai = pd.concat([train_pai,test_pai],axis=0).sort_values(['ID_CPTE','TRANSACTION_DTTM'])\n",
    "compl_tra = pd.concat([train_tra,test_tra],axis=0).sort_values(['ID_CPTE','TRANSACTION_DTTM'])"
   ]
  },
  {
   "cell_type": "markdown",
   "metadata": {},
   "source": [
    "## Transaction / Payments Features\n",
    "\n",
    "Features are made in Transaction and Payment tables and then merged on a per month basis with Facturation"
   ]
  },
  {
   "cell_type": "code",
   "execution_count": 4,
   "metadata": {},
   "outputs": [],
   "source": [
    "compl_fac['PERIODID_MY'] = pd.to_datetime(compl_fac['PERIODID_MY']).dt.date\n",
    "compl_pai['TRANSACTION_DTTM'] = pd.to_datetime(compl_pai['TRANSACTION_DTTM'])\n",
    "compl_pai['PERIODID_MY'] = compl_pai['TRANSACTION_DTTM'].apply(lambda x: x.replace(day=1)).dt.date"
   ]
  },
  {
   "cell_type": "code",
   "execution_count": 5,
   "metadata": {},
   "outputs": [],
   "source": [
    "compl_pai = pd.concat([compl_pai,pd.get_dummies(compl_pai['PAYMENT_REVERSAL_XFLG'])],axis=1)\n",
    "compl_pai['cumsumPAIAMT'] = compl_pai.groupby(['ID_CPTE'])['TRANSACTION_AMT'].cumsum()\n",
    "compl_pai['cumcntPAIAMT'] = compl_pai.groupby(['ID_CPTE'])['TRANSACTION_AMT'].cumcount()\n",
    "compl_pai['cummeaPAIAMT'] = compl_pai['cumsumPAIAMT']/(compl_pai['cumcntPAIAMT']+1)\n",
    "compl_pai['cumQ'] = compl_pai.groupby(['ID_CPTE'])['Q'].transform('cumsum')\n",
    "compl_pai['cumN'] = compl_pai.groupby(['ID_CPTE'])['N'].transform('cumsum')"
   ]
  },
  {
   "cell_type": "code",
   "execution_count": 6,
   "metadata": {},
   "outputs": [],
   "source": [
    "compl_paim = compl_pai.groupby(['ID_CPTE','PERIODID_MY'], as_index=False).agg({'TRANSACTION_AMT':['count','mean','sum'],\n",
    "                                                                               'cumsumPAIAMT':'last',\n",
    "                                                                               'cummeaPAIAMT':'last',\n",
    "                                                                               'N':'sum',\n",
    "                                                                               'Q':'sum'})\n",
    "compl_paim.columns = [''.join(col).strip() for col in compl_paim.columns.values]\n",
    "compl_fac = compl_fac.merge(compl_paim,on=['ID_CPTE','PERIODID_MY'],how='left')\n",
    "compl_fac.fillna(0,inplace=True)"
   ]
  },
  {
   "cell_type": "code",
   "execution_count": 7,
   "metadata": {},
   "outputs": [],
   "source": [
    "compl_fac['ratio_ctotal_credit'] = compl_fac['CurrentTotalBalance']/compl_fac['CreditLimit']"
   ]
  },
  {
   "cell_type": "code",
   "execution_count": 8,
   "metadata": {},
   "outputs": [],
   "source": [
    "compl_tra.rename(columns={'TRANSACTION_AMT':'TRANSACTION_AMT_TRA'},inplace=True)\n",
    "compl_tra['TRANSACTION_DTTM'] = pd.to_datetime(compl_tra['TRANSACTION_DTTM'])\n",
    "compl_tra['PERIODID_MY'] = compl_tra['TRANSACTION_DTTM'].apply(lambda x: x.replace(day=1)).dt.date"
   ]
  },
  {
   "cell_type": "code",
   "execution_count": 9,
   "metadata": {},
   "outputs": [],
   "source": [
    "compl_tra = pd.concat([compl_tra,pd.get_dummies(compl_tra['DECISION_XCD'],prefix='dec')],axis=1)\n",
    "compl_tra = pd.concat([compl_tra,pd.get_dummies(compl_tra['TRANSACTION_CATEGORY_XCD'],prefix='cat')],axis=1)\n",
    "compl_tra = pd.concat([compl_tra,pd.get_dummies(compl_tra['TRANSACTION_TYPE_XCD'],prefix='typ')],axis=1)\n",
    "l = ['sic_AJ','sic_AE','sic_AG']\n",
    "compl_tra = pd.concat([compl_tra,pd.get_dummies(compl_tra['SICGROUP'],prefix='sic')[l]],axis=1)\n",
    "\n",
    "compl_tra['cumsumTRAAMT'] = compl_tra.groupby(['ID_CPTE'])['TRANSACTION_AMT_TRA'].cumsum()"
   ]
  },
  {
   "cell_type": "code",
   "execution_count": 10,
   "metadata": {},
   "outputs": [],
   "source": [
    "compl_tram = compl_tra.groupby(['ID_CPTE','PERIODID_MY'], as_index=False).agg({'TRANSACTION_AMT_TRA':['count','mean','sum'],\n",
    "                                                                               'PRIOR_CREDIT_LIMIT_AMT':['count','mean','sum','last'],\n",
    "                                                                               'cumsumTRAAMT':'last',\n",
    "                                                                               'dec_A':'sum',\n",
    "                                                                               'dec_B':'sum',\n",
    "                                                                               'dec_C':'sum',\n",
    "                                                                               'cat_A':'sum',\n",
    "                                                                               'cat_B':'sum',\n",
    "                                                                               'cat_C':'sum',\n",
    "                                                                               'cat_D':'sum',\n",
    "                                                                               'cat_E':'sum',\n",
    "                                                                               'typ_A':'sum',\n",
    "                                                                               'typ_B':'sum',\n",
    "                                                                               'typ_C':'sum',\n",
    "                                                                               'typ_D':'sum',\n",
    "                                                                               'typ_E':'sum',\n",
    "                                                                               'typ_F':'sum',\n",
    "                                                                               'typ_G':'sum',\n",
    "                                                                               'sic_AJ':'sum',\n",
    "                                                                               'sic_AE':'sum',\n",
    "                                                                               'sic_AG':'sum'\n",
    "                                                                              })\n",
    "compl_tram.columns = [''.join(col).strip() for col in compl_tram.columns.values]"
   ]
  },
  {
   "cell_type": "code",
   "execution_count": 11,
   "metadata": {},
   "outputs": [],
   "source": [
    "compl_fac = compl_fac.merge(compl_tram,on=['ID_CPTE','PERIODID_MY'],how='left')\n",
    "compl_fac.fillna(0,inplace=True)"
   ]
  },
  {
   "cell_type": "code",
   "execution_count": 12,
   "metadata": {},
   "outputs": [],
   "source": [
    "compl_fac['txn_ratio_tra_pai']=compl_fac['TRANSACTION_AMT_TRAsum']/(1+compl_fac['TRANSACTION_AMTsum'])\n",
    "compl_fac['txn_ratio_tra_paicount']=compl_fac['TRANSACTION_AMT_TRAcount']/(1+compl_fac['TRANSACTION_AMTcount'])"
   ]
  },
  {
   "cell_type": "markdown",
   "metadata": {},
   "source": [
    "## Features"
   ]
  },
  {
   "cell_type": "code",
   "execution_count": 13,
   "metadata": {},
   "outputs": [],
   "source": [
    "numericals = []\n",
    "categoricals = []"
   ]
  },
  {
   "cell_type": "code",
   "execution_count": 14,
   "metadata": {},
   "outputs": [],
   "source": [
    "def get_agg_compte(data,var,agg,numericals):\n",
    "    gp = data.groupby(['ID_CPTE']).agg({var:agg})\n",
    "    if not agg+var in numericals:\n",
    "        numericals.append(agg+var)\n",
    "    compl[agg+var]=compl['ID_CPTE'].map(gp[var])\n",
    "\n",
    "def get_lags_compte(data,var,lags,numericals):\n",
    "    gp = data.groupby(['ID_CPTE'])\n",
    "    for lag in lags:\n",
    "        compl[var+str(lag)] = compl['ID_CPTE'].map(gp[var].nth(lag))\n",
    "        if not var+str(lag) in numericals:\n",
    "            numericals.append(var+str(lag))"
   ]
  },
  {
   "cell_type": "code",
   "execution_count": 15,
   "metadata": {},
   "outputs": [],
   "source": [
    "get_agg_compte(compl_pai,'cumsumPAIAMT','last',numericals)\n",
    "get_agg_compte(compl_pai,'cumQ','last',numericals)"
   ]
  },
  {
   "cell_type": "code",
   "execution_count": 16,
   "metadata": {},
   "outputs": [],
   "source": [
    "get_agg_compte(compl_fac,'CurrentTotalBalance','last',numericals) #8027\n",
    "get_agg_compte(compl_fac,'CashBalance','last',numericals) #8204\n",
    "get_agg_compte(compl_fac,'CreditLimit','last',numericals) #8641\n",
    "compl['ratio_last_credit_totalcash'] = compl['lastCurrentTotalBalance']/compl['lastCreditLimit'] #8714\n",
    "numericals.append('ratio_last_credit_totalcash')"
   ]
  },
  {
   "cell_type": "code",
   "execution_count": 17,
   "metadata": {},
   "outputs": [],
   "source": [
    "get_agg_compte(compl_fac,'DelqCycle','last',numericals) #8748\n",
    "get_agg_compte(compl_fac,'TRANSACTION_AMTcount','last',numericals) #8785\n",
    "get_agg_compte(compl_fac,'TRANSACTION_AMTmean','last',numericals) #8808\n",
    "get_agg_compte(compl_fac,'TRANSACTION_AMTsum','last',numericals) #8826"
   ]
  },
  {
   "cell_type": "code",
   "execution_count": 18,
   "metadata": {},
   "outputs": [],
   "source": [
    "get_agg_compte(compl_fac,'CashBalance','mean',numericals) #8902\n",
    "get_agg_compte(compl_fac,'DelqCycle','mean',numericals) #8967\n",
    "get_agg_compte(compl_fac,'TRANSACTION_AMTmean','mean',numericals) #8968"
   ]
  },
  {
   "cell_type": "code",
   "execution_count": 19,
   "metadata": {},
   "outputs": [],
   "source": [
    "get_agg_compte(compl_fac,'CreditLimit','median',numericals) #8975\n",
    "get_agg_compte(compl_fac,'TRANSACTION_AMTmean','median',numericals) #8978"
   ]
  },
  {
   "cell_type": "code",
   "execution_count": 20,
   "metadata": {},
   "outputs": [],
   "source": [
    "get_agg_compte(compl_fac,'CashBalance','first',numericals) #8981\n",
    "get_agg_compte(compl_fac,'DelqCycle','first',numericals) #8988"
   ]
  },
  {
   "cell_type": "code",
   "execution_count": 21,
   "metadata": {},
   "outputs": [],
   "source": [
    "get_agg_compte(compl_fac,'DelqCycle','std',numericals) #8989\n",
    "get_agg_compte(compl_fac,'CreditLimit','std',numericals) #9005\n",
    "get_agg_compte(compl_fac,'TRANSACTION_AMTcount','std',numericals) #9016\n",
    "get_agg_compte(compl_fac,'TRANSACTION_AMTsum','std',numericals) #9019"
   ]
  },
  {
   "cell_type": "code",
   "execution_count": 22,
   "metadata": {},
   "outputs": [],
   "source": [
    "get_lags_compte(compl_fac,'ratio_ctotal_credit',[-2,-3,-4,-5,-6,-7,-8,-9,-10,-11,-12],numericals) #2 9037 6 9045 12 9049\n",
    "get_lags_compte(compl_fac,'CurrentTotalBalance',[-2,-3,-4,-5,-6,-7,-8,-9,-10,-11,-12],numericals) #6 9046 12 9052\n",
    "get_lags_compte(compl_fac,'DelqCycle',[-2,-3,-4,-5],numericals)\n",
    "get_lags_compte(compl_fac,'TRANSACTION_AMTcount',[-2,-3,-4,-5,-6],numericals) #3 9051 6 9058 12 9059\n",
    "get_lags_compte(compl_fac,'cumsumPAIAMTlast',[-2,-3,-5,-12],numericals) #9061"
   ]
  },
  {
   "cell_type": "code",
   "execution_count": 23,
   "metadata": {},
   "outputs": [],
   "source": [
    "get_agg_compte(compl_pai,'TRANSACTION_AMT','last',numericals) #9063\n",
    "get_agg_compte(compl_fac,'DelqCycle','sum',numericals) #9062\n",
    "get_agg_compte(compl_fac,'TRANSACTION_AMTcount','sum',numericals) #9064\n",
    "get_agg_compte(compl_fac,'TRANSACTION_AMTmean','sum',numericals) #9064"
   ]
  },
  {
   "cell_type": "code",
   "execution_count": 24,
   "metadata": {},
   "outputs": [],
   "source": [
    "compl_pai['TRANSACTION_DTTM'] = pd.to_datetime(compl_pai['TRANSACTION_DTTM'])\n",
    "temp = compl_pai.groupby(['ID_CPTE'])['TRANSACTION_DTTM'].max().rename(columns={'TRANSACTION_DTTM':'MAX_TXN_DTTM'})\n",
    "temp_2 = compl_pai.groupby(['ID_CPTE'])['TRANSACTION_DTTM'].min().rename(columns={'TRANSACTION_DTTM':'MIN_TXN_DTTM'})\n",
    "temp = (temp-temp_2)/np.timedelta64(1, 'D')\n",
    "compl['PAI_DIFF_MAX_MIN_TXN_DTTM'] = compl['ID_CPTE'].map(temp)\n",
    "numericals.append('PAI_DIFF_MAX_MIN_TXN_DTTM')\n",
    "\n",
    "get_agg_compte(compl_pai,'TRANSACTION_AMT','count',numericals)\n",
    "get_agg_compte(compl_pai,'TRANSACTION_AMT','sum',numericals)\n",
    "compl['PAI_FREQ_TXN_AMT'] = compl['countTRANSACTION_AMT']/compl['PAI_DIFF_MAX_MIN_TXN_DTTM']\n",
    "numericals.append('PAI_FREQ_TXN_AMT')\n",
    "compl['PAI_FREQ_sum_TXNS_AMT'] = compl['sumTRANSACTION_AMT']/compl['PAI_DIFF_MAX_MIN_TXN_DTTM']\n",
    "numericals.remove('countTRANSACTION_AMT')\n",
    "numericals.remove('sumTRANSACTION_AMT')\n",
    "numericals.append('PAI_FREQ_sum_TXNS_AMT') #9067"
   ]
  },
  {
   "cell_type": "code",
   "execution_count": 25,
   "metadata": {},
   "outputs": [],
   "source": [
    "#9078 All\n",
    "get_agg_compte(compl_tra,'TRANSACTION_AMT_TRA','count',numericals) #9073\n",
    "get_agg_compte(compl_tra,'TRANSACTION_AMT_TRA','mean',numericals) #9069\n",
    "get_agg_compte(compl_tra,'TRANSACTION_AMT_TRA','median',numericals) #9071\n",
    "get_agg_compte(compl_tra,'TRANSACTION_AMT_TRA','first',numericals) #9068\n",
    "get_agg_compte(compl_tra,'TRANSACTION_AMT_TRA','last',numericals) #9069\n",
    "get_agg_compte(compl_tra,'TRANSACTION_AMT_TRA','min',numericals) #9072\n",
    "get_agg_compte(compl_tra,'TRANSACTION_AMT_TRA','max',numericals) #9072\n",
    "get_agg_compte(compl_tra,'TRANSACTION_AMT_TRA','std',numericals) #9069\n",
    "get_agg_compte(compl_tra,'TRANSACTION_AMT_TRA','sum',numericals) #9069"
   ]
  },
  {
   "cell_type": "code",
   "execution_count": 26,
   "metadata": {},
   "outputs": [],
   "source": [
    "get_agg_compte(compl_tra,'PRIOR_CREDIT_LIMIT_AMT','first',numericals) #9078\n",
    "get_agg_compte(compl_tra,'PRIOR_CREDIT_LIMIT_AMT','last',numericals) #9078\n",
    "get_agg_compte(compl_tra,'PRIOR_CREDIT_LIMIT_AMT','std',numericals) #9080"
   ]
  },
  {
   "cell_type": "code",
   "execution_count": 27,
   "metadata": {},
   "outputs": [],
   "source": [
    "get_agg_compte(compl_fac,'TRANSACTION_AMT_TRAcount','last',numericals) #9091\n",
    "get_agg_compte(compl_fac,'TRANSACTION_AMT_TRAmean','last',numericals) #9092\n",
    "get_agg_compte(compl_fac,'TRANSACTION_AMT_TRAsum','last',numericals) #9093"
   ]
  },
  {
   "cell_type": "code",
   "execution_count": 28,
   "metadata": {},
   "outputs": [],
   "source": [
    "get_agg_compte(compl_fac,'TRANSACTION_AMT_TRAcount','max',numericals) #9105\n",
    "get_agg_compte(compl_fac,'TRANSACTION_AMT_TRAsum','max',numericals) #9108"
   ]
  },
  {
   "cell_type": "code",
   "execution_count": 29,
   "metadata": {},
   "outputs": [],
   "source": [
    "get_agg_compte(compl_fac,'TRANSACTION_AMT_TRAcount','std',numericals) #9108\n",
    "get_agg_compte(compl_fac,'TRANSACTION_AMT_TRAsum','std',numericals) #9106\n",
    "get_agg_compte(compl_fac,'PRIOR_CREDIT_LIMIT_AMTcount','std',numericals) #9106\n",
    "get_agg_compte(compl_fac,'PRIOR_CREDIT_LIMIT_AMTlast','std',numericals) #9106"
   ]
  },
  {
   "cell_type": "code",
   "execution_count": 30,
   "metadata": {},
   "outputs": [],
   "source": [
    "get_lags_compte(compl_fac,'TRANSACTION_AMT_TRAcount',[-2,-3,-4,-5,-6],numericals) #6 9114 12 9008\n",
    "get_lags_compte(compl_fac,'TRANSACTION_AMT_TRAsum',[2,3],numericals) #9114"
   ]
  },
  {
   "cell_type": "code",
   "execution_count": 31,
   "metadata": {},
   "outputs": [],
   "source": [
    "#9115\n",
    "compl_tra['TRANSACTION_DTTM'] = pd.to_datetime(compl_tra['TRANSACTION_DTTM'])\n",
    "temp = compl_tra.groupby(['ID_CPTE'])['TRANSACTION_DTTM'].max().rename(columns={'TRANSACTION_DTTM':'MAX_TXN_DTTM'})\n",
    "temp_2 = compl_tra.groupby(['ID_CPTE'])['TRANSACTION_DTTM'].min().rename(columns={'TRANSACTION_DTTM':'MIN_TXN_DTTM'})\n",
    "temp = (temp-temp_2)/np.timedelta64(1, 'D')\n",
    "compl['DIFF_MAX_MIN_TXN_DTTM'] = compl['ID_CPTE'].map(temp)\n",
    "numericals.append('DIFF_MAX_MIN_TXN_DTTM')\n",
    "compl['FREQ_TXNS_AMT_TRA'] = compl['countTRANSACTION_AMT_TRA']/compl['DIFF_MAX_MIN_TXN_DTTM']\n",
    "numericals.append('FREQ_TXNS_AMT_TRA')"
   ]
  },
  {
   "cell_type": "code",
   "execution_count": 32,
   "metadata": {},
   "outputs": [],
   "source": [
    "#9130\n",
    "temp = compl_tra[compl_tra['TRANSACTION_CATEGORY_XCD']=='A'].groupby(['ID_CPTE'])['TRANSACTION_CATEGORY_XCD'].count()\n",
    "compl['count_category_xcd_eq_A'] = compl['ID_CPTE'].map(temp)\n",
    "numericals.append('count_category_xcd_eq_A')\n",
    "temp = compl_tra[compl_tra['TRANSACTION_CATEGORY_XCD']=='B'].groupby(['ID_CPTE'])['TRANSACTION_CATEGORY_XCD'].count()\n",
    "compl['count_category_xcd_eq_B'] = compl['ID_CPTE'].map(temp)\n",
    "numericals.append('count_category_xcd_eq_B')\n",
    "temp = compl_tra[compl_tra['TRANSACTION_CATEGORY_XCD']=='C'].groupby(['ID_CPTE'])['TRANSACTION_CATEGORY_XCD'].count()\n",
    "compl['count_category_xcd_eq_C'] = compl['ID_CPTE'].map(temp)\n",
    "numericals.append('count_category_xcd_eq_C')\n",
    "temp = compl_tra[compl_tra['TRANSACTION_CATEGORY_XCD']=='D'].groupby(['ID_CPTE'])['TRANSACTION_CATEGORY_XCD'].count()\n",
    "compl['count_category_xcd_eq_D'] = compl['ID_CPTE'].map(temp)\n",
    "numericals.append('count_category_xcd_eq_D')\n",
    "temp = compl_tra[compl_tra['TRANSACTION_CATEGORY_XCD']=='E'].groupby(['ID_CPTE'])['TRANSACTION_CATEGORY_XCD'].count()\n",
    "compl['count_category_xcd_eq_E'] = compl['ID_CPTE'].map(temp)\n",
    "numericals.append('count_category_xcd_eq_E')\n",
    "temp = compl_tra[compl_tra['TRANSACTION_TYPE_XCD']=='A'].groupby(['ID_CPTE'])['TRANSACTION_TYPE_XCD'].count()\n",
    "compl['count_type_xcd_eq_A'] = compl['ID_CPTE'].map(temp)\n",
    "numericals.append('count_type_xcd_eq_A')\n",
    "temp = compl_tra[compl_tra['TRANSACTION_TYPE_XCD']=='B'].groupby(['ID_CPTE'])['TRANSACTION_TYPE_XCD'].count()\n",
    "compl['count_type_xcd_eq_B'] = compl['ID_CPTE'].map(temp)\n",
    "numericals.append('count_type_xcd_eq_B')\n",
    "temp = compl_tra[compl_tra['TRANSACTION_TYPE_XCD']=='C'].groupby(['ID_CPTE'])['TRANSACTION_TYPE_XCD'].count()\n",
    "compl['count_type_xcd_eq_C'] = compl['ID_CPTE'].map(temp)\n",
    "numericals.append('count_type_xcd_eq_C')\n",
    "temp = compl_tra[compl_tra['TRANSACTION_TYPE_XCD']=='D'].groupby(['ID_CPTE'])['TRANSACTION_TYPE_XCD'].count()\n",
    "compl['count_type_xcd_eq_D'] = compl['ID_CPTE'].map(temp)\n",
    "numericals.append('count_type_xcd_eq_D')\n",
    "temp = compl_tra[compl_tra['TRANSACTION_TYPE_XCD']=='E'].groupby(['ID_CPTE'])['TRANSACTION_TYPE_XCD'].count()\n",
    "compl['count_type_xcd_eq_E'] = compl['ID_CPTE'].map(temp)\n",
    "numericals.append('count_type_xcd_eq_E')\n",
    "temp = compl_tra[compl_tra['TRANSACTION_TYPE_XCD']=='F'].groupby(['ID_CPTE'])['TRANSACTION_TYPE_XCD'].count()\n",
    "compl['count_type_xcd_eq_F'] = compl['ID_CPTE'].map(temp)\n",
    "numericals.append('count_type_xcd_eq_F')\n",
    "temp = compl_tra[compl_tra['TRANSACTION_TYPE_XCD']=='G'].groupby(['ID_CPTE'])['TRANSACTION_TYPE_XCD'].count()\n",
    "compl['count_type_xcd_eq_G'] = compl['ID_CPTE'].map(temp)\n",
    "numericals.append('count_type_xcd_eq_G')"
   ]
  },
  {
   "cell_type": "code",
   "execution_count": 33,
   "metadata": {},
   "outputs": [],
   "source": [
    "get_agg_compte(compl_fac,'typ_Esum','last',numericals)\n",
    "get_agg_compte(compl_fac,'typ_Esum','mean',numericals) \n",
    "get_agg_compte(compl_fac,'typ_Esum','std',numericals) #9131"
   ]
  },
  {
   "cell_type": "code",
   "execution_count": 34,
   "metadata": {},
   "outputs": [],
   "source": [
    "get_agg_compte(compl_fac,'cat_Bsum','last',numericals)\n",
    "get_agg_compte(compl_fac,'cat_Bsum','mean',numericals) \n",
    "get_agg_compte(compl_fac,'cat_Bsum','std',numericals) #9132"
   ]
  },
  {
   "cell_type": "code",
   "execution_count": 35,
   "metadata": {},
   "outputs": [],
   "source": [
    "get_agg_compte(compl_fac,'cat_Esum','last',numericals)\n",
    "get_agg_compte(compl_fac,'cat_Esum','mean',numericals) \n",
    "get_agg_compte(compl_fac,'cat_Esum','std',numericals) #9133"
   ]
  },
  {
   "cell_type": "code",
   "execution_count": 36,
   "metadata": {},
   "outputs": [],
   "source": [
    "get_lags_compte(compl_fac,'typ_Esum',[3,4,5,6],numericals) #9135"
   ]
  },
  {
   "cell_type": "code",
   "execution_count": 37,
   "metadata": {},
   "outputs": [],
   "source": [
    "#CV 9149 TFIDF 9154 CVpct 9161 TFIDFpct 9159\n",
    "prefix = 'sic'\n",
    "temp = compl_tra.groupby(['ID_CPTE'])['SICGROUP'].apply(lambda x: (x+' ').sum())\n",
    "compl['list'] = compl['ID_CPTE'].map(temp)\n",
    "vectorizer = CountVectorizer(token_pattern='\\w+',min_df=10)\n",
    "sparse = vectorizer.fit_transform(compl['list'].astype(str))\n",
    "del compl['list']\n",
    "for cat in vectorizer.vocabulary_.keys():\n",
    "    idx = vectorizer.vocabulary_[cat]\n",
    "    compl[prefix+'_'+cat] = np.array(sparse[:,idx].todense()).flatten()/(compl['countTRANSACTION_AMT_TRA']+1) #Normalize\n",
    "    numericals += [prefix+'_'+cat]"
   ]
  },
  {
   "cell_type": "code",
   "execution_count": 38,
   "metadata": {},
   "outputs": [],
   "source": [
    "#CV 9164 TFIDF 9160 CVpct 9154  TFIDFpct 9154\n",
    "prefix = 'mcat'\n",
    "temp = compl_tra.groupby(['ID_CPTE'])['MERCHANT_CATEGORY_XCD'].apply(lambda x: (x+' ').sum())\n",
    "compl['list'] = compl['ID_CPTE'].map(temp)\n",
    "vectorizer = CountVectorizer(token_pattern='\\w+',min_df=10)\n",
    "sparse = vectorizer.fit_transform(compl['list'].astype(str))\n",
    "del compl['list']\n",
    "for cat in vectorizer.vocabulary_.keys():\n",
    "    idx = vectorizer.vocabulary_[cat]\n",
    "    compl[prefix+'_'+cat] = np.array(sparse[:,idx].todense())\n",
    "    numericals += [prefix+'_'+cat]"
   ]
  },
  {
   "cell_type": "code",
   "execution_count": 39,
   "metadata": {},
   "outputs": [],
   "source": [
    "get_agg_compte(compl_fac,'sic_AEsum','last',numericals)\n",
    "get_agg_compte(compl_fac,'sic_AEsum','mean',numericals) \n",
    "get_agg_compte(compl_fac,'sic_AEsum','max',numericals)\n",
    "get_agg_compte(compl_fac,'sic_AEsum','std',numericals) #9164"
   ]
  },
  {
   "cell_type": "code",
   "execution_count": 40,
   "metadata": {},
   "outputs": [],
   "source": [
    "get_lags_compte(compl_fac,'sic_AJsum',[-2,-3,-4,-5,-6],numericals) \n",
    "get_lags_compte(compl_fac,'sic_AEsum',[-2,-3,-4,-5,-6],numericals) \n",
    "get_lags_compte(compl_fac,'sic_AGsum',[-2,-3,-4,-5,-6],numericals) #9166"
   ]
  },
  {
   "cell_type": "code",
   "execution_count": 41,
   "metadata": {},
   "outputs": [],
   "source": [
    "target = 'Default'\n",
    "features = categoricals.copy() + numericals.copy()\n",
    "\n",
    "index_cat = list(range(len(categoricals)))\n",
    "\n",
    "compl.fillna(-999,inplace=True)\n",
    "le = LabelEncoder()\n",
    "for cat in categoricals:\n",
    "    compl[cat] = le.fit_transform(compl[cat].astype(str))\n",
    "\n",
    "tr_idx = np.where(compl.trainset==1)\n",
    "test_idx = np.where(compl.trainset==0)\n",
    "df_train = compl.iloc[tr_idx]\n",
    "df_test = compl.iloc[test_idx]\n",
    "\n",
    "X = df_train[features]\n",
    "X_test = df_test[features]\n",
    "y = df_train[target]"
   ]
  },
  {
   "cell_type": "markdown",
   "metadata": {},
   "source": [
    "## Models"
   ]
  },
  {
   "cell_type": "code",
   "execution_count": 42,
   "metadata": {},
   "outputs": [],
   "source": [
    "cat_params = {'logging_level':'Silent',\n",
    "                  'learning_rate':0.05,\n",
    "                  'iterations':1000,\n",
    "                  #'l2_leaf_reg':0.1,\n",
    "                  'bagging_temperature':0.5,\n",
    "                  'random_seed':seed,\n",
    "                  'depth':4,\n",
    "                  'od_type':\"Iter\",\n",
    "                  'od_wait':70}"
   ]
  },
  {
   "cell_type": "code",
   "execution_count": 43,
   "metadata": {},
   "outputs": [
    {
     "name": "stdout",
     "output_type": "stream",
     "text": [
      "[878, 372, 370, 305, 506, 406, 488, 299, 366, 419]\n",
      "Average ROC: 0.9169303385596006 Average trees: 440\n"
     ]
    },
    {
     "data": {
      "image/png": "[encoded data removed]",
      "text/plain": [
       "<Figure size 2160x1512 with 2 Axes>"
      ]
     },
     "metadata": {},
     "output_type": "display_data"
    },
    {
     "name": "stdout",
     "output_type": "stream",
     "text": [
      "Wall time: 2min 17s\n"
     ]
    }
   ],
   "source": [
    "%%time\n",
    "rocs = []\n",
    "trees = []\n",
    "feature_importances_split = []\n",
    "feature_importances_shap = []\n",
    "k_fold_predictions = []\n",
    "\n",
    "X_meta = np.zeros((compl.shape[0],2))\n",
    "X_meta[:X.shape[0],0]=y\n",
    "\n",
    "kf = KFold(10,shuffle=True,random_state=seed)\n",
    "for train_idx, val_idx in kf.split(X):\n",
    "\n",
    "    X_tr = X.iloc[train_idx]\n",
    "    y_tr = y.iloc[train_idx]\n",
    "    X_val = X.iloc[val_idx]\n",
    "    y_val = y.iloc[val_idx]\n",
    "\n",
    "    cat_model = cb.CatBoostClassifier(**cat_params.copy())\n",
    "    cat_model.fit(X=X_tr,y=y_tr,eval_set=(X_val,y_val),cat_features=index_cat,use_best_model=True)\n",
    "\n",
    "    predict_tr = cat_model.predict(X_tr,prediction_type='Probability')[:,1]\n",
    "    roc_auc_tr = roc_auc_score(y_tr,predict_tr)\n",
    "\n",
    "    predict_val = cat_model.predict(X_val,prediction_type='Probability')[:,1]\n",
    "    X_meta[val_idx,1]=predict_val\n",
    "\n",
    "    roc_auc = roc_auc_score(y_val,predict_val)\n",
    "\n",
    "    rocs.append(roc_auc)\n",
    "    trees.append(cat_model.tree_count_)\n",
    "    if len(cat_model.feature_importances_) == len(features):\n",
    "        feature_importances_split.append(cat_model.feature_importances_)\n",
    "\n",
    "    cp = cb.Pool(X_val,y_val,cat_features = index_cat)\n",
    "    fi = cat_model.get_feature_importance(cp,fstr_type='ShapValues')[:,:-1]\n",
    "    feature_importances_shap.append(fi)\n",
    "    print('TRAIN:',roc_auc_tr,'VAL:',roc_auc)\n",
    "\n",
    "clear_output()\n",
    "avg_trees = sum(trees)//len(trees)\n",
    "print(trees)\n",
    "avg_roc = sum(rocs)/len(rocs)\n",
    "print('Average ROC:',avg_roc,'Average trees:',avg_trees)\n",
    "\n",
    "feature_importances_split = np.stack(feature_importances_split).mean(axis=0)\n",
    "feature_importances_shap = (np.stack(feature_importances_shap).mean(axis=0)).mean(axis=0)\n",
    "importances = pd.DataFrame({'Name':features,'Shap':list(feature_importances_shap),\n",
    "                 'Split':list(feature_importances_split)})\n",
    "importances['Shap_abs'] = np.abs(feature_importances_shap)\n",
    "feature_sort = 'Split'\n",
    "importances = importances.sort_values(feature_sort,ascending=False)\n",
    "fig, ax = plt.subplots(figsize=(30,21),nrows=1,ncols=2)\n",
    "sns.barplot(x=feature_sort, y='Name',data=importances[:30], ax=ax[0])\n",
    "importances = importances.sort_values('Shap_abs',ascending=False)\n",
    "sns.barplot(x='Shap', y='Name',data=importances[:30], ax=ax[1])\n",
    "plt.show() "
   ]
  },
  {
   "cell_type": "code",
   "execution_count": 44,
   "metadata": {},
   "outputs": [
    {
     "name": "stdout",
     "output_type": "stream",
     "text": [
      "0.05715179443359375\n"
     ]
    }
   ],
   "source": [
    "cat_model = cat_model.fit(X=X,y=y,cat_features=index_cat)\n",
    "start_pred = time.time()\n",
    "predict_test = cat_model.predict(X_test,prediction_type='Probability')[:,1]\n",
    "print((time.time()-start_pred))\n",
    "test['Default'] = predict_test\n",
    "X_meta[X.shape[0]:,1]=predict_test\n",
    "test[['ID_CPTE','Default']].to_csv('SinglePredictions/'+f'{avg_roc:.5f}_'+'CB2_full.csv',index=False)\n",
    "np.save('Stacksfull/'+f'{avg_roc:.5f}_'+'MetaCB2_full.npy',X_meta)"
   ]
  },
  {
   "cell_type": "code",
   "execution_count": 45,
   "metadata": {},
   "outputs": [
    {
     "name": "stdout",
     "output_type": "stream",
     "text": [
      "216.13372707366943\n"
     ]
    }
   ],
   "source": [
    "print((time.time()-start))"
   ]
  },
  {
   "cell_type": "code",
   "execution_count": 46,
   "metadata": {},
   "outputs": [
    {
     "data": {
      "text/plain": [
       "221"
      ]
     },
     "execution_count": 46,
     "metadata": {},
     "output_type": "execute_result"
    }
   ],
   "source": [
    "len(features)"
   ]
  },
  {
   "cell_type": "code",
   "execution_count": null,
   "metadata": {},
   "outputs": [],
   "source": []
  }
 ],
 "metadata": {
  "kernelspec": {
   "display_name": "Python 3",
   "language": "python",
   "name": "python3"
  },
  "language_info": {
   "codemirror_mode": {
    "name": "ipython",
    "version": 3
   },
   "file_extension": ".py",
   "mimetype": "text/x-python",
   "name": "python",
   "nbconvert_exporter": "python",
   "pygments_lexer": "ipython3",
   "version": "3.6.5"
  }
 },
 "nbformat": 4,
 "nbformat_minor": 2
}
